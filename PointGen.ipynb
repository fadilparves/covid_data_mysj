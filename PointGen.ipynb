{
 "cells": [
  {
   "cell_type": "code",
   "execution_count": 1,
   "metadata": {},
   "outputs": [],
   "source": [
    "import requests\n",
    "import json\n",
    "import pandas as pd\n",
    "import numpy as np\n",
    "import geojson\n",
    "from shapely.geometry import mapping, shape, MultiPoint"
   ]
  },
  {
   "cell_type": "code",
   "execution_count": 2,
   "metadata": {},
   "outputs": [],
   "source": [
    "with open(\"data/daerah.geojson\") as file:\n",
    "    countys = json.load(file)"
   ]
  },
  {
   "cell_type": "code",
   "execution_count": 3,
   "metadata": {},
   "outputs": [
    {
     "data": {
      "text/plain": [
       "dict_keys(['Batu Pahat', 'Johor Bahru', 'Kluang', 'Kota Tinggi', 'Kulai', 'Tangkak', 'Mersing', 'Muar', 'Pontian', 'Segamat', 'Baling', 'Bandar Baharu', 'Kota Setar', 'Kuala Muda', 'Kubang Pasu', 'Kulim', 'Langkawi', 'Padang Terap', 'Pendang', 'Pokok Sena', 'Sik', 'Yan', 'Bachok', 'Gua Musang', 'Jeli', 'Kota Bharu', 'Kuala Krai', 'Machang', 'Pasir Mas', 'Pasir Puteh', 'Tanah Merah', 'Tumpat', 'Bandar Tun Razak', 'Batu', 'Bukit Bintang', 'Cheras', 'Kepong', 'Lembah Pantai', 'Segambut', 'Seputeh', 'Setiawangsa', 'Titiwangsa', 'Wangsa Maju', 'Labuan', 'Alor Gajah', 'Jasin', 'Melaka Tengah', 'Jelebu', 'Jempol', 'Kuala Pilah', 'Port Dickson', 'Rembau', 'Seremban', 'Tampin', 'Bentong', 'Bera', 'Cameron Highlands', 'Jerantut', 'Kuantan', 'Lipis', 'Maran', 'Pekan', 'Raub', 'Rompin', 'Temerloh', 'Batang Padang', 'Hilir Perak', 'Hulu Perak', 'Kampar', 'Kerian', 'Kinta', 'Kuala Kangsar', 'Larut Matang Selama', 'Manjung', 'Perak Tengah', 'Perlis', 'Barat Daya', 'Seberang Perai Selatan', 'Seberang Perai Tengah', 'Seberang Perai Utara', 'Timur Laut', 'Putrajaya', 'Beaufort', 'Beluran', 'Keningau', 'Kinabatangan', 'Kota Belud', 'Kota Kinabalu', 'Kota Marudu', 'Kuala Penyu', 'Kudat', 'Kunak', 'Lahad Datu', 'Nabawan', 'Papar', 'Penampang', 'Pitas', 'Putatan', 'Ranau', 'Sandakan', 'Semporna', 'Sipitang', 'Tambunan', 'Tawau', 'Tenom', 'Tongod', 'Tuaran', 'Asajaya', 'Bau', 'Belaga', 'Betong', 'Bintulu', 'Dalat', 'Daro', 'Julau', 'Kanowit', 'Kapit', 'Kuching', 'Lawas', 'Limbang', 'Lubok Antu', 'Lundu', 'Marudi', 'Matu', 'Meradong', 'Miri', 'Mukah', 'Pakan', 'Samarahan', 'Saratok', 'Sarikei', 'Selangau', 'Serian', 'Sibu', 'Simunjan', 'Song', 'Sri Aman', 'Tatau', 'Hulu Selangor', 'Klang', 'Kuala Langat', 'Kuala Selangor', 'Sabak Bernam', 'Sepang', 'Gombak', 'Petaling', 'Hulu Langat', 'Besut', 'Dungun', 'Hulu Terengganu', 'Kemaman', 'Kuala Terengganu', 'Marang', 'Setiu'])"
      ]
     },
     "execution_count": 3,
     "metadata": {},
     "output_type": "execute_result"
    }
   ],
   "source": [
    "countys = {malaysia['properties']['daerah']:malaysia['geometry'] for malaysia in countys['features']}\n",
    "countys.keys()"
   ]
  },
  {
   "cell_type": "code",
   "execution_count": 4,
   "metadata": {},
   "outputs": [
    {
     "name": "stderr",
     "output_type": "stream",
     "text": [
      "TopologyException: Input geom 1 is invalid: Self-intersection at or near point 101.72416454244099 3.2292779974886989 at 101.72416454244099 3.2292779974886989\n",
      "TopologyException: Input geom 1 is invalid: Self-intersection at or near point 101.737602 3.1392709999999999 at 101.737602 3.1392709999999999\n"
     ]
    }
   ],
   "source": [
    "# Check if generated points are in the provided polygon boundary\n",
    "def check_intersection(df):\n",
    "    points = MultiPoint(df.values)\n",
    "    try:\n",
    "        ls = list(points.intersection(polygon))\n",
    "        return [[l.x, l.y] for l in ls]\n",
    "    except:\n",
    "        return []\n",
    "\n",
    "point_my = dict()\n",
    "\n",
    "for county_name in countys.keys():\n",
    "    #print(county_name)\n",
    "    county = json.dumps(countys[county_name])\n",
    "    c_geojson = geojson.loads(county)\n",
    "    polygon = shape(c_geojson)\n",
    "    lonmin, latmin, lonmax, latmax = polygon.bounds\n",
    "    resolution = 0.003\n",
    "    lat_arange = np.arange(latmin, latmax, resolution)\n",
    "    lon_arange = np.arange(lonmin, lonmax, resolution)\n",
    "    x, y = np.meshgrid(lat_arange, lon_arange)\n",
    "    x = np.round(x, 6)\n",
    "    y = np.round(y, 6)\n",
    "    x = np.reshape(x, (-1,1))\n",
    "    y = np.reshape(y, (-1,1))\n",
    "    xy = np.concatenate([y,x],axis=1)\n",
    "    df = pd.DataFrame(xy)\n",
    "    check_points = check_intersection(df)\n",
    "    in_county = []\n",
    "    for point in check_points:\n",
    "        in_county.extend([point])\n",
    "\n",
    "    point_my[county_name] = in_county"
   ]
  },
  {
   "cell_type": "code",
   "execution_count": 5,
   "metadata": {},
   "outputs": [
    {
     "data": {
      "text/plain": [
       "dict_keys(['Batu Pahat', 'Johor Bahru', 'Kluang', 'Kota Tinggi', 'Kulai', 'Tangkak', 'Mersing', 'Muar', 'Pontian', 'Segamat', 'Baling', 'Bandar Baharu', 'Kota Setar', 'Kuala Muda', 'Kubang Pasu', 'Kulim', 'Langkawi', 'Padang Terap', 'Pendang', 'Pokok Sena', 'Sik', 'Yan', 'Bachok', 'Gua Musang', 'Jeli', 'Kota Bharu', 'Kuala Krai', 'Machang', 'Pasir Mas', 'Pasir Puteh', 'Tanah Merah', 'Tumpat', 'Bandar Tun Razak', 'Batu', 'Bukit Bintang', 'Cheras', 'Kepong', 'Lembah Pantai', 'Segambut', 'Seputeh', 'Setiawangsa', 'Titiwangsa', 'Wangsa Maju', 'Labuan', 'Alor Gajah', 'Jasin', 'Melaka Tengah', 'Jelebu', 'Jempol', 'Kuala Pilah', 'Port Dickson', 'Rembau', 'Seremban', 'Tampin', 'Bentong', 'Bera', 'Cameron Highlands', 'Jerantut', 'Kuantan', 'Lipis', 'Maran', 'Pekan', 'Raub', 'Rompin', 'Temerloh', 'Batang Padang', 'Hilir Perak', 'Hulu Perak', 'Kampar', 'Kerian', 'Kinta', 'Kuala Kangsar', 'Larut Matang Selama', 'Manjung', 'Perak Tengah', 'Perlis', 'Barat Daya', 'Seberang Perai Selatan', 'Seberang Perai Tengah', 'Seberang Perai Utara', 'Timur Laut', 'Putrajaya', 'Beaufort', 'Beluran', 'Keningau', 'Kinabatangan', 'Kota Belud', 'Kota Kinabalu', 'Kota Marudu', 'Kuala Penyu', 'Kudat', 'Kunak', 'Lahad Datu', 'Nabawan', 'Papar', 'Penampang', 'Pitas', 'Putatan', 'Ranau', 'Sandakan', 'Semporna', 'Sipitang', 'Tambunan', 'Tawau', 'Tenom', 'Tongod', 'Tuaran', 'Asajaya', 'Bau', 'Belaga', 'Betong', 'Bintulu', 'Dalat', 'Daro', 'Julau', 'Kanowit', 'Kapit', 'Kuching', 'Lawas', 'Limbang', 'Lubok Antu', 'Lundu', 'Marudi', 'Matu', 'Meradong', 'Miri', 'Mukah', 'Pakan', 'Samarahan', 'Saratok', 'Sarikei', 'Selangau', 'Serian', 'Sibu', 'Simunjan', 'Song', 'Sri Aman', 'Tatau', 'Hulu Selangor', 'Klang', 'Kuala Langat', 'Kuala Selangor', 'Sabak Bernam', 'Sepang', 'Gombak', 'Petaling', 'Hulu Langat', 'Besut', 'Dungun', 'Hulu Terengganu', 'Kemaman', 'Kuala Terengganu', 'Marang', 'Setiu'])"
      ]
     },
     "execution_count": 5,
     "metadata": {},
     "output_type": "execute_result"
    }
   ],
   "source": [
    "point_my.keys()"
   ]
  },
  {
   "cell_type": "code",
   "execution_count": 6,
   "metadata": {},
   "outputs": [],
   "source": [
    "with open('my_points.json', 'w') as ofile:\n",
    "    json.dump(point_my, ofile)"
   ]
  }
 ],
 "metadata": {
  "kernelspec": {
   "display_name": "Python 3",
   "language": "python",
   "name": "python3"
  },
  "language_info": {
   "codemirror_mode": {
    "name": "ipython",
    "version": 3
   },
   "file_extension": ".py",
   "mimetype": "text/x-python",
   "name": "python",
   "nbconvert_exporter": "python",
   "pygments_lexer": "ipython3",
   "version": "3.8.2"
  }
 },
 "nbformat": 4,
 "nbformat_minor": 4
}
